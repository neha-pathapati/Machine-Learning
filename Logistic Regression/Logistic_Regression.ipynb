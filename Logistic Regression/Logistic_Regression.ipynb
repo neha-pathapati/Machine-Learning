{
 "cells": [
  {
   "cell_type": "code",
   "execution_count": 274,
   "metadata": {},
   "outputs": [],
   "source": [
    "import pandas as pd\n",
    "import numpy as np\n",
    "import matplotlib.pyplot as plt\n",
    "import scipy.optimize as opt"
   ]
  },
  {
   "cell_type": "code",
   "execution_count": 275,
   "metadata": {
    "collapsed": true
   },
   "outputs": [],
   "source": [
    "data = np.loadtxt('logistic_regression_data/ex2data1.txt', delimiter=',')\n"
   ]
  },
  {
   "cell_type": "markdown",
   "metadata": {
    "collapsed": true
   },
   "source": [
    "#### PLOT DATA"
   ]
  },
  {
   "cell_type": "code",
   "execution_count": 276,
   "metadata": {
    "scrolled": true
   },
   "outputs": [
    {
     "data": {
      "image/png": "[encoded data removed]",
      "text/plain": [
       "<matplotlib.figure.Figure at 0x1a16fabf90>"
      ]
     },
     "metadata": {},
     "output_type": "display_data"
    }
   ],
   "source": [
    "X = data[:,:2]\n",
    "y = data[:,2]\n",
    "\n",
    "pos = np.where(y == 1)\n",
    "neg = np.where(y == 0)\n",
    "\n",
    "p1 = plt.plot(X[pos, 0], X[pos, 1], marker = '+', markersize = 6, color = 'g')[0]\n",
    "p2 = plt.plot(X[neg, 0], X[neg, 1], marker = 'o', markersize = 6, color = 'b')[0]\n",
    "\n",
    "plt.xlabel('EXAM 1 GRADE')\n",
    "plt.ylabel('EXAM 2 GRADE')\n",
    "plt.legend((p1, p2), ('ADMITTED', 'NOT ADMITTED'), numpoints=1, handlelength=0.5, loc=1)\n",
    "plt.grid(True)\n",
    "plt.show() \n"
   ]
  },
  {
   "cell_type": "markdown",
   "metadata": {},
   "source": [
    "#### SIGMOID FUNCTION"
   ]
  },
  {
   "cell_type": "code",
   "execution_count": 277,
   "metadata": {
    "collapsed": true
   },
   "outputs": [],
   "source": [
    "# Logistic/Sigmoid function\n",
    "def sigmoid(z):\n",
    "    return 1 / (1 + np.exp(-z))"
   ]
  },
  {
   "cell_type": "code",
   "execution_count": 278,
   "metadata": {},
   "outputs": [
    {
     "data": {
      "image/png": "[encoded data removed]",
      "text/plain": [
       "<matplotlib.figure.Figure at 0x1a15d63950>"
      ]
     },
     "metadata": {},
     "output_type": "display_data"
    }
   ],
   "source": [
    "# Sigmoid Function Curve\n",
    "nums = np.arange(-10, 11, step=1)\n",
    "plt.plot(nums, sigmoid(nums))\n",
    "plt.grid(True)\n",
    "plt.show()"
   ]
  },
  {
   "cell_type": "markdown",
   "metadata": {},
   "source": [
    "#### COST FUNCTION"
   ]
  },
  {
   "cell_type": "code",
   "execution_count": 279,
   "metadata": {},
   "outputs": [],
   "source": [
    "def cost(theta, X, y):\n",
    "    m = len(y)\n",
    "    J = 0\n",
    "    hypothesis = sigmoid(np.dot(X, theta))\n",
    "    cost = 1/float(m) * (np.dot(- y, np.log(hypothesis)) - np.dot((1 - y), (np.log(1 - hypothesis))))\n",
    "    return cost"
   ]
  },
  {
   "cell_type": "markdown",
   "metadata": {},
   "source": [
    "#### GRADIENT DESCENT FUNCTION"
   ]
  },
  {
   "cell_type": "code",
   "execution_count": 280,
   "metadata": {
    "collapsed": true
   },
   "outputs": [],
   "source": [
    "def gradient_descent(theta, X, y):\n",
    "    m = len(y)\n",
    "    grad = np.zeros_like(theta)\n",
    "    grad = 1 / float(m) * np.dot((sigmoid(np.dot(X, theta)) - y), X)\n",
    "    return grad"
   ]
  },
  {
   "cell_type": "markdown",
   "metadata": {},
   "source": [
    "#### TESTING COST AND GRADIENT DESCENT"
   ]
  },
  {
   "cell_type": "code",
   "execution_count": 281,
   "metadata": {},
   "outputs": [
    {
     "name": "stdout",
     "output_type": "stream",
     "text": [
      "Testing Cost():\n",
      "With theta = [0 ; 0; 0], Cost computed =  0.6931\n",
      "Expected cost value (approx) = 0.693\n",
      "\n",
      "Testing gradient_descent():\n",
      "With theta = [0 ; 0; 0], Gradient descent computed =  [ -0.1        -12.00921659 -11.26284221]\n",
      "Expected gradients (approx):\n",
      " -0.1000\n",
      " -12.0092\n",
      " -11.2628\n",
      "\n"
     ]
    }
   ],
   "source": [
    "training_samples = data.shape[0]\n",
    "cols = data.shape[1]\n",
    "y = data[:, (cols - 1)]\n",
    "X = np.column_stack((np.ones((training_samples, 1)), data[:, : (cols - 1)]))\n",
    "theta = np.zeros([cols, 1])\n",
    "\n",
    "# Cost\n",
    "print 'Testing Cost():'\n",
    "J = cost(theta, X, y)\n",
    "print 'With theta = [0 ; 0; 0], Cost computed = ', round(J, 4)\n",
    "print 'Expected cost value (approx) = 0.693\\n'\n",
    "\n",
    "# Gradient Descent\n",
    "print 'Testing gradient_descent():'\n",
    "grad = gradient_descent(theta, X, y)\n",
    "print 'With theta = [0 ; 0; 0], Gradient descent computed = ', grad[0]\n",
    "print 'Expected gradients (approx):\\n -0.1000\\n -12.0092\\n -11.2628\\n'"
   ]
  },
  {
   "cell_type": "markdown",
   "metadata": {},
   "source": [
    "#### LEARNING PARAMETERS USING SCIPY"
   ]
  },
  {
   "cell_type": "code",
   "execution_count": 283,
   "metadata": {},
   "outputs": [
    {
     "name": "stdout",
     "output_type": "stream",
     "text": [
      "Optimized theta:  [-25.16131866   0.20623159   0.20147149]\n"
     ]
    }
   ],
   "source": [
    "result = opt.fmin_tnc(func=cost, x0=theta, fprime=gradient_descent, args=(X, y))\n",
    "optimal_theta = result[0]\n",
    "print \"Optimized theta: \", optimal_theta\n"
   ]
  },
  {
   "cell_type": "markdown",
   "metadata": {},
   "source": [
    "#### FUNCTION TO CALCULATE ACCURACY"
   ]
  },
  {
   "cell_type": "code",
   "execution_count": 284,
   "metadata": {
    "collapsed": true
   },
   "outputs": [],
   "source": [
    "def predict(theta, exam1, exam2):\n",
    "    return sigmoid(theta[0] + exam1 * theta[1] + exam2 * theta[2])\n",
    "\n",
    "def find_accuracy(theta, exam1, exam2, y, training_samples):\n",
    "    rounded_predictions = np.round(predict(theta, exam1, exam2))\n",
    "    sum = np.sum(rounded_predictions == y)\n",
    "    accuracy = sum / float(training_samples)\n",
    "    return accuracy"
   ]
  },
  {
   "cell_type": "markdown",
   "metadata": {},
   "source": [
    "#### EVALUATE LOGISTIC REGRESSION"
   ]
  },
  {
   "cell_type": "code",
   "execution_count": 257,
   "metadata": {},
   "outputs": [
    {
     "name": "stdout",
     "output_type": "stream",
     "text": [
      "For a student with scores 45 and 85, we predict an admission probability of 0.776290623948\n"
     ]
    }
   ],
   "source": [
    "p = predict(optimal_theta, 45, 85)\n",
    "print 'For a student with scores 45 and 85, we predict an admission probability of', p"
   ]
  },
  {
   "cell_type": "code",
   "execution_count": 258,
   "metadata": {},
   "outputs": [
    {
     "name": "stdout",
     "output_type": "stream",
     "text": [
      "Train Accuracy:  0.89\n",
      "Expected accuracy (approx): 89.0\n",
      "\n"
     ]
    }
   ],
   "source": [
    "exam1 = data[:, 0]\n",
    "exam2 = data[:, 1]\n",
    "train_accuracy = find_accuracy(optimal_theta, exam1, exam2, y, training_samples)\n",
    "print \"Train Accuracy: \", train_accuracy\n",
    "print 'Expected accuracy (approx): 89.0\\n'"
   ]
  },
  {
   "cell_type": "markdown",
   "metadata": {},
   "source": [
    "#### PLOT DECISION BOUNDARY"
   ]
  },
  {
   "cell_type": "code",
   "execution_count": 268,
   "metadata": {},
   "outputs": [
    {
     "data": {
      "image/png": "[encoded data removed]",
      "text/plain": [
       "<matplotlib.figure.Figure at 0x1a16b26550>"
      ]
     },
     "metadata": {},
     "output_type": "display_data"
    }
   ],
   "source": [
    "X = data[:,:2]\n",
    "y = data[:,2]\n",
    "\n",
    "pos = np.where(y == 1)\n",
    "neg = np.where(y == 0)\n",
    "\n",
    "p1 = plt.plot(X[pos, 0], X[pos, 1], marker = '+', markersize = 6, color = 'g')[0]\n",
    "p2 = plt.plot(X[neg, 0], X[neg, 1], marker = 'o', markersize = 6, color = 'b')[0]\n",
    "\n",
    "plt.xlabel('EXAM 1 GRADE')\n",
    "plt.ylabel('EXAM 2 GRADE')\n",
    "plt.legend((p1, p2), ('ADMITTED', 'NOT ADMITTED'), numpoints=1, handlelength=0.5, loc=1)\n",
    "\n",
    "X = np.column_stack((np.ones((training_samples, 1)), data[:, : (cols - 1)]))\n",
    "plot_x = np.array([min(X[:,1])-2,  max(X[:,1])+2])\n",
    "plot_y = (-1./optimal_theta[2])*(optimal_theta[1]*plot_x + optimal_theta[0])\n",
    "\n",
    "p3 = plt.plot(plot_x, plot_y, color = 'r')\n",
    "        \n",
    "plt.show(block=False)"
   ]
  },
  {
   "cell_type": "code",
   "execution_count": null,
   "metadata": {
    "collapsed": true
   },
   "outputs": [],
   "source": []
  }
 ],
 "metadata": {
  "kernelspec": {
   "display_name": "Python 2",
   "language": "python",
   "name": "python2"
  },
  "language_info": {
   "codemirror_mode": {
    "name": "ipython",
    "version": 2
   },
   "file_extension": ".py",
   "mimetype": "text/x-python",
   "name": "python",
   "nbconvert_exporter": "python",
   "pygments_lexer": "ipython2",
   "version": "2.7.14"
  }
 },
 "nbformat": 4,
 "nbformat_minor": 2
}
