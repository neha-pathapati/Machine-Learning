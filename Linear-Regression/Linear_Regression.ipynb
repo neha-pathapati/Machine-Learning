{
 "cells": [
  {
   "cell_type": "code",
   "execution_count": 80,
   "metadata": {
    "collapsed": true
   },
   "outputs": [],
   "source": [
    "import numpy as np\n",
    "import matplotlib.pyplot as plt\n",
    "import matplotlib.patches as mpatches"
   ]
  },
  {
   "cell_type": "markdown",
   "metadata": {},
   "source": [
    "### WARM - UP"
   ]
  },
  {
   "cell_type": "code",
   "execution_count": 81,
   "metadata": {},
   "outputs": [
    {
     "name": "stdout",
     "output_type": "stream",
     "text": [
      "[[ 1.  0.  0.  0.  0.]\n",
      " [ 0.  1.  0.  0.  0.]\n",
      " [ 0.  0.  1.  0.  0.]\n",
      " [ 0.  0.  0.  1.  0.]\n",
      " [ 0.  0.  0.  0.  1.]]\n"
     ]
    }
   ],
   "source": [
    "A = np.identity(5)\n",
    "print A"
   ]
  },
  {
   "cell_type": "markdown",
   "metadata": {},
   "source": [
    "### LINEAR REGRESSION WITH ONE VARIABLE"
   ]
  },
  {
   "cell_type": "markdown",
   "metadata": {},
   "source": [
    "#### Plot Data"
   ]
  },
  {
   "cell_type": "code",
   "execution_count": 82,
   "metadata": {},
   "outputs": [
    {
     "data": {
      "image/png": "[encoded data removed]",
      "text/plain": [
       "<matplotlib.figure.Figure at 0x10e106b50>"
      ]
     },
     "metadata": {},
     "output_type": "display_data"
    }
   ],
   "source": [
    "data = np.loadtxt('linear_regression_data/ex1data1.txt', delimiter=',')\n",
    "\n",
    "x = data[:, 0]  # population\n",
    "y = data[:, 1]  # profit\n",
    "\n",
    "plt.scatter(x, y, color = 'r', marker = 'x')\n",
    "plt.xlabel(\"Population of City in 10,000s\")\n",
    "plt.ylabel(\"Profit in $10,000s\")\n",
    "\n",
    "classes = ['Training Data']\n",
    "class_colours = ['r']\n",
    "recs = []\n",
    "for i in range(0,len(class_colours)):\n",
    "    recs.append(mpatches.Rectangle((0,0), 1, 1, fc=class_colours[i]))\n",
    "plt.legend(recs, classes, loc=4)\n",
    "\n",
    "plt.show()"
   ]
  },
  {
   "cell_type": "markdown",
   "metadata": {},
   "source": [
    "#### Cost and Gradient Descent"
   ]
  },
  {
   "cell_type": "code",
   "execution_count": 83,
   "metadata": {
    "collapsed": true
   },
   "outputs": [],
   "source": [
    "# Cost\n",
    "def compute_cost(X, y, theta):\n",
    "    J = 0                      # cost\n",
    "    m = len(y)                 # number of samples\n",
    "    h = np.dot(X, theta)\n",
    "    J = (float(1) / (2 * m)) * np.sum(np.square(np.subtract(h.T, y)))\n",
    "    return J"
   ]
  },
  {
   "cell_type": "code",
   "execution_count": 84,
   "metadata": {},
   "outputs": [],
   "source": [
    "# Gradient Descent\n",
    "def gradient_descent(X, y, theta, alpha, num_iters):\n",
    "    m = len(y)\n",
    "    J_history = np.zeros([num_iters, 1])\n",
    "\n",
    "    for i in range(0, num_iters):\n",
    "        h = np.dot(X, theta)\n",
    "        h_sub_y = np.subtract(h.T, y)\n",
    "\n",
    "        temp1 = theta[0] - alpha / m * np.sum(h_sub_y)\n",
    "        temp2 = theta[1] - alpha / m * np.sum(np.multiply(h_sub_y, X[:, 1]))\n",
    "        theta[0] = float(temp1[0])\n",
    "        theta[1] = float(temp2[0])\n",
    "        \n",
    "        J_history[i] = compute_cost(X, y, theta)\n",
    "    return [theta, J_history]"
   ]
  },
  {
   "cell_type": "code",
   "execution_count": 93,
   "metadata": {},
   "outputs": [
    {
     "name": "stdout",
     "output_type": "stream",
     "text": [
      "TESTING COST FUNCTION:\n",
      "With theta = [0 ; 0], Cost computed =  32.07\n",
      "Expected cost value (approx) = 32.07 \n",
      "\n",
      "With theta = [-1 ; 2]; Cost computed =  54.24\n",
      "Expected cost value (approx) = 54.24 \n",
      "\n",
      "TESTING GRADIENT DESCENT FUNCTION:\n",
      "Theta found by gradient descent:  -3.6303 1.1664\n",
      "Expected theta values (approx) = -3.6303  1.1664\n"
     ]
    }
   ],
   "source": [
    "data = np.loadtxt('linear_regression_data/ex1data1.txt', delimiter=',')\n",
    "iterations = 1500\n",
    "alpha = 0.01\n",
    "training_samples = len(data)\n",
    "\n",
    "theta = np.zeros([2, 1])\n",
    "X = np.column_stack((np.ones((training_samples, 1)), data[:, 0]))\n",
    "y = data[:, 1]\n",
    "\n",
    "# Cost\n",
    "print 'TESTING COST FUNCTION:'\n",
    "J = compute_cost(X, y, theta)\n",
    "print 'With theta = [0 ; 0], Cost computed = ', round(J, 2)\n",
    "print 'Expected cost value (approx) = 32.07 \\n'\n",
    "\n",
    "# further testing of the cost function\n",
    "J = compute_cost(X, y, [[-1], [2]])\n",
    "print 'With theta = [-1 ; 2]; Cost computed = ', round(J, 2)\n",
    "print 'Expected cost value (approx) = 54.24 \\n'\n",
    "\n",
    "# Gradient Descent\n",
    "theta, J_history = gradient_descent(X, y, theta, alpha, iterations)\n",
    "print 'TESTING GRADIENT DESCENT FUNCTION:'\n",
    "print 'Theta found by gradient descent: ', round(theta[0], 4), round(theta[1], 4)\n",
    "print 'Expected theta values (approx) = -3.6303  1.1664'\n",
    "\n"
   ]
  },
  {
   "cell_type": "markdown",
   "metadata": {},
   "source": [
    "#### Plot Linear Fit"
   ]
  },
  {
   "cell_type": "code",
   "execution_count": 92,
   "metadata": {},
   "outputs": [
    {
     "data": {
      "image/png": "[encoded data removed]",
      "text/plain": [
       "<matplotlib.figure.Figure at 0x10e3882d0>"
      ]
     },
     "metadata": {},
     "output_type": "display_data"
    }
   ],
   "source": [
    "plt.scatter(x, y, color = 'r', marker = 'x')\n",
    "\n",
    "profit_predictions = np.dot(X, theta)\n",
    "plt.plot(x, profit_predictions, color = 'b')\n",
    "\n",
    "plt.xlabel(\"Population of City in 10,000s\")\n",
    "plt.ylabel(\"Profit in $10,000s\")\n",
    "\n",
    "classes = ['Training Data', 'Linear Fit']\n",
    "class_colours = ['r', 'b']\n",
    "recs = []\n",
    "for i in range(0,len(class_colours)):\n",
    "    recs.append(mpatches.Rectangle((0,0), 1, 1, fc=class_colours[i]))\n",
    "plt.legend(recs, classes, loc=4)\n",
    "\n",
    "plt.show()"
   ]
  },
  {
   "cell_type": "markdown",
   "metadata": {},
   "source": [
    "#### Predict values for population sizes of 35,000 and 70,000"
   ]
  },
  {
   "cell_type": "code",
   "execution_count": 95,
   "metadata": {},
   "outputs": [
    {
     "name": "stdout",
     "output_type": "stream",
     "text": [
      "For population = 35,000, we predict a profit of  4519.77\n",
      "For population = 70,000, we predict a profit of  45342.45\n"
     ]
    }
   ],
   "source": [
    "predict1 = np.dot([1, 3.5], theta)\n",
    "print 'For population = 35,000, we predict a profit of ', round(predict1*10000, 2)\n",
    "predict2 = np.dot([1, 7], theta)\n",
    "print 'For population = 70,000, we predict a profit of ', round(predict2*10000, 2)\n"
   ]
  },
  {
   "cell_type": "code",
   "execution_count": null,
   "metadata": {
    "collapsed": true
   },
   "outputs": [],
   "source": []
  }
 ],
 "metadata": {
  "kernelspec": {
   "display_name": "Python 2",
   "language": "python",
   "name": "python2"
  },
  "language_info": {
   "codemirror_mode": {
    "name": "ipython",
    "version": 2
   },
   "file_extension": ".py",
   "mimetype": "text/x-python",
   "name": "python",
   "nbconvert_exporter": "python",
   "pygments_lexer": "ipython2",
   "version": "2.7.14"
  }
 },
 "nbformat": 4,
 "nbformat_minor": 2
}
